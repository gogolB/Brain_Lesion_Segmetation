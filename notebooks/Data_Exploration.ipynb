{
 "cells": [
  {
   "cell_type": "markdown",
   "metadata": {},
   "source": [
    "# Data Exploration Notebook"
   ]
  },
  {
   "cell_type": "code",
   "execution_count": 186,
   "metadata": {},
   "outputs": [
    {
     "name": "stdout",
     "output_type": "stream",
     "text": [
      "Requirement already satisfied: pandas_profiling[html,notebook] in /opt/conda/lib/python3.7/site-packages (2.5.0)\n",
      "\u001b[33m  WARNING: pandas-profiling 2.5.0 does not provide the extra 'html'\u001b[0m\n",
      "Requirement already satisfied: requests==2.22.0 in /opt/conda/lib/python3.7/site-packages (from pandas_profiling[html,notebook]) (2.22.0)\n",
      "Requirement already satisfied: matplotlib>=3.0.3 in /opt/conda/lib/python3.7/site-packages (from pandas_profiling[html,notebook]) (3.1.3)\n",
      "Requirement already satisfied: numpy>=1.16.0 in /opt/conda/lib/python3.7/site-packages (from pandas_profiling[html,notebook]) (1.18.1)\n",
      "Requirement already satisfied: confuse==1.0.0 in /opt/conda/lib/python3.7/site-packages (from pandas_profiling[html,notebook]) (1.0.0)\n",
      "Requirement already satisfied: missingno==0.4.2 in /opt/conda/lib/python3.7/site-packages (from pandas_profiling[html,notebook]) (0.4.2)\n",
      "Requirement already satisfied: ipywidgets==7.5.1 in /opt/conda/lib/python3.7/site-packages (from pandas_profiling[html,notebook]) (7.5.1)\n",
      "Requirement already satisfied: phik==0.9.9 in /opt/conda/lib/python3.7/site-packages (from pandas_profiling[html,notebook]) (0.9.9)\n",
      "Requirement already satisfied: astropy>=3.2.3 in /opt/conda/lib/python3.7/site-packages (from pandas_profiling[html,notebook]) (4.0)\n",
      "Requirement already satisfied: pandas==0.25.3 in /opt/conda/lib/python3.7/site-packages (from pandas_profiling[html,notebook]) (0.25.3)\n",
      "Requirement already satisfied: tangled-up-in-unicode==0.0.3 in /opt/conda/lib/python3.7/site-packages (from pandas_profiling[html,notebook]) (0.0.3)\n",
      "Requirement already satisfied: visions==0.2.2 in /opt/conda/lib/python3.7/site-packages (from pandas_profiling[html,notebook]) (0.2.2)\n",
      "Requirement already satisfied: htmlmin==0.1.12 in /opt/conda/lib/python3.7/site-packages (from pandas_profiling[html,notebook]) (0.1.12)\n",
      "Requirement already satisfied: scipy>=1.4.1 in /opt/conda/lib/python3.7/site-packages (from pandas_profiling[html,notebook]) (1.4.1)\n",
      "Requirement already satisfied: kaggle==1.5.6 in /opt/conda/lib/python3.7/site-packages (from pandas_profiling[html,notebook]) (1.5.6)\n",
      "Requirement already satisfied: tqdm==4.42.0 in /opt/conda/lib/python3.7/site-packages (from pandas_profiling[html,notebook]) (4.42.0)\n",
      "Requirement already satisfied: jinja2==2.11.1 in /opt/conda/lib/python3.7/site-packages (from pandas_profiling[html,notebook]) (2.11.1)\n",
      "Requirement already satisfied: jupyter-core==4.6.1; extra == \"notebook\" in /opt/conda/lib/python3.7/site-packages (from pandas_profiling[html,notebook]) (4.6.1)\n",
      "Requirement already satisfied: jupyter-client==5.3.4; extra == \"notebook\" in /opt/conda/lib/python3.7/site-packages (from pandas_profiling[html,notebook]) (5.3.4)\n",
      "Requirement already satisfied: idna<2.9,>=2.5 in /opt/conda/lib/python3.7/site-packages (from requests==2.22.0->pandas_profiling[html,notebook]) (2.8)\n",
      "Requirement already satisfied: chardet<3.1.0,>=3.0.2 in /opt/conda/lib/python3.7/site-packages (from requests==2.22.0->pandas_profiling[html,notebook]) (3.0.4)\n",
      "Requirement already satisfied: certifi>=2017.4.17 in /opt/conda/lib/python3.7/site-packages (from requests==2.22.0->pandas_profiling[html,notebook]) (2019.11.28)\n",
      "Requirement already satisfied: urllib3!=1.25.0,!=1.25.1,<1.26,>=1.21.1 in /opt/conda/lib/python3.7/site-packages (from requests==2.22.0->pandas_profiling[html,notebook]) (1.24.3)\n",
      "Requirement already satisfied: cycler>=0.10 in /opt/conda/lib/python3.7/site-packages (from matplotlib>=3.0.3->pandas_profiling[html,notebook]) (0.10.0)\n",
      "Requirement already satisfied: python-dateutil>=2.1 in /opt/conda/lib/python3.7/site-packages (from matplotlib>=3.0.3->pandas_profiling[html,notebook]) (2.8.1)\n",
      "Requirement already satisfied: pyparsing!=2.0.4,!=2.1.2,!=2.1.6,>=2.0.1 in /opt/conda/lib/python3.7/site-packages (from matplotlib>=3.0.3->pandas_profiling[html,notebook]) (2.4.6)\n",
      "Requirement already satisfied: kiwisolver>=1.0.1 in /opt/conda/lib/python3.7/site-packages (from matplotlib>=3.0.3->pandas_profiling[html,notebook]) (1.1.0)\n",
      "Requirement already satisfied: pyyaml in /opt/conda/lib/python3.7/site-packages (from confuse==1.0.0->pandas_profiling[html,notebook]) (5.3)\n",
      "Requirement already satisfied: seaborn in /opt/conda/lib/python3.7/site-packages (from missingno==0.4.2->pandas_profiling[html,notebook]) (0.10.0)\n",
      "Requirement already satisfied: ipython>=4.0.0; python_version >= \"3.3\" in /opt/conda/lib/python3.7/site-packages (from ipywidgets==7.5.1->pandas_profiling[html,notebook]) (7.13.0)\n",
      "Requirement already satisfied: nbformat>=4.2.0 in /opt/conda/lib/python3.7/site-packages (from ipywidgets==7.5.1->pandas_profiling[html,notebook]) (5.0.4)\n",
      "Requirement already satisfied: ipykernel>=4.5.1 in /opt/conda/lib/python3.7/site-packages (from ipywidgets==7.5.1->pandas_profiling[html,notebook]) (5.1.4)\n",
      "Requirement already satisfied: traitlets>=4.3.1 in /opt/conda/lib/python3.7/site-packages (from ipywidgets==7.5.1->pandas_profiling[html,notebook]) (4.3.3)\n",
      "Requirement already satisfied: widgetsnbextension~=3.5.0 in /opt/conda/lib/python3.7/site-packages (from ipywidgets==7.5.1->pandas_profiling[html,notebook]) (3.5.1)\n",
      "Requirement already satisfied: nbconvert>=5.3.1 in /opt/conda/lib/python3.7/site-packages (from phik==0.9.9->pandas_profiling[html,notebook]) (5.6.1)\n",
      "Requirement already satisfied: pytest>=4.0.2 in /opt/conda/lib/python3.7/site-packages (from phik==0.9.9->pandas_profiling[html,notebook]) (5.3.5)\n",
      "Requirement already satisfied: joblib>=0.14.1 in /opt/conda/lib/python3.7/site-packages (from phik==0.9.9->pandas_profiling[html,notebook]) (0.14.1)\n",
      "Requirement already satisfied: numba>=0.38.1 in /opt/conda/lib/python3.7/site-packages (from phik==0.9.9->pandas_profiling[html,notebook]) (0.48.0)\n",
      "Requirement already satisfied: pytest-pylint>=0.13.0 in /opt/conda/lib/python3.7/site-packages (from phik==0.9.9->pandas_profiling[html,notebook]) (0.15.1)\n",
      "Requirement already satisfied: pytz>=2017.2 in /opt/conda/lib/python3.7/site-packages (from pandas==0.25.3->pandas_profiling[html,notebook]) (2019.3)\n",
      "Requirement already satisfied: attr in /opt/conda/lib/python3.7/site-packages (from visions==0.2.2->pandas_profiling[html,notebook]) (0.3.1)\n",
      "Requirement already satisfied: networkx in /opt/conda/lib/python3.7/site-packages (from visions==0.2.2->pandas_profiling[html,notebook]) (2.4)\n",
      "Requirement already satisfied: six>=1.10 in /opt/conda/lib/python3.7/site-packages (from kaggle==1.5.6->pandas_profiling[html,notebook]) (1.14.0)\n",
      "Requirement already satisfied: python-slugify in /opt/conda/lib/python3.7/site-packages (from kaggle==1.5.6->pandas_profiling[html,notebook]) (4.0.0)\n",
      "Requirement already satisfied: MarkupSafe>=0.23 in /opt/conda/lib/python3.7/site-packages (from jinja2==2.11.1->pandas_profiling[html,notebook]) (1.1.1)\n",
      "Requirement already satisfied: pyzmq>=13 in /opt/conda/lib/python3.7/site-packages (from jupyter-client==5.3.4; extra == \"notebook\"->pandas_profiling[html,notebook]) (19.0.0)\n",
      "Requirement already satisfied: tornado>=4.1 in /opt/conda/lib/python3.7/site-packages (from jupyter-client==5.3.4; extra == \"notebook\"->pandas_profiling[html,notebook]) (6.0.4)\n",
      "Requirement already satisfied: setuptools in /opt/conda/lib/python3.7/site-packages (from kiwisolver>=1.0.1->matplotlib>=3.0.3->pandas_profiling[html,notebook]) (45.2.0.post20200209)\n",
      "Requirement already satisfied: pickleshare in /opt/conda/lib/python3.7/site-packages (from ipython>=4.0.0; python_version >= \"3.3\"->ipywidgets==7.5.1->pandas_profiling[html,notebook]) (0.7.5)\n",
      "Requirement already satisfied: decorator in /opt/conda/lib/python3.7/site-packages (from ipython>=4.0.0; python_version >= \"3.3\"->ipywidgets==7.5.1->pandas_profiling[html,notebook]) (4.4.2)\n",
      "Requirement already satisfied: pygments in /opt/conda/lib/python3.7/site-packages (from ipython>=4.0.0; python_version >= \"3.3\"->ipywidgets==7.5.1->pandas_profiling[html,notebook]) (2.5.2)\n",
      "Requirement already satisfied: pexpect; sys_platform != \"win32\" in /opt/conda/lib/python3.7/site-packages (from ipython>=4.0.0; python_version >= \"3.3\"->ipywidgets==7.5.1->pandas_profiling[html,notebook]) (4.8.0)\n",
      "Requirement already satisfied: prompt-toolkit!=3.0.0,!=3.0.1,<3.1.0,>=2.0.0 in /opt/conda/lib/python3.7/site-packages (from ipython>=4.0.0; python_version >= \"3.3\"->ipywidgets==7.5.1->pandas_profiling[html,notebook]) (3.0.4)\n",
      "Requirement already satisfied: backcall in /opt/conda/lib/python3.7/site-packages (from ipython>=4.0.0; python_version >= \"3.3\"->ipywidgets==7.5.1->pandas_profiling[html,notebook]) (0.1.0)\n",
      "Requirement already satisfied: jedi>=0.10 in /opt/conda/lib/python3.7/site-packages (from ipython>=4.0.0; python_version >= \"3.3\"->ipywidgets==7.5.1->pandas_profiling[html,notebook]) (0.16.0)\n",
      "Requirement already satisfied: ipython-genutils in /opt/conda/lib/python3.7/site-packages (from nbformat>=4.2.0->ipywidgets==7.5.1->pandas_profiling[html,notebook]) (0.2.0)\n",
      "Requirement already satisfied: jsonschema!=2.5.0,>=2.4 in /opt/conda/lib/python3.7/site-packages (from nbformat>=4.2.0->ipywidgets==7.5.1->pandas_profiling[html,notebook]) (3.2.0)\n"
     ]
    },
    {
     "name": "stdout",
     "output_type": "stream",
     "text": [
      "Requirement already satisfied: notebook>=4.4.1 in /opt/conda/lib/python3.7/site-packages (from widgetsnbextension~=3.5.0->ipywidgets==7.5.1->pandas_profiling[html,notebook]) (6.0.3)\n",
      "Requirement already satisfied: entrypoints>=0.2.2 in /opt/conda/lib/python3.7/site-packages (from nbconvert>=5.3.1->phik==0.9.9->pandas_profiling[html,notebook]) (0.3)\n",
      "Requirement already satisfied: mistune<2,>=0.8.1 in /opt/conda/lib/python3.7/site-packages (from nbconvert>=5.3.1->phik==0.9.9->pandas_profiling[html,notebook]) (0.8.4)\n",
      "Requirement already satisfied: bleach in /opt/conda/lib/python3.7/site-packages (from nbconvert>=5.3.1->phik==0.9.9->pandas_profiling[html,notebook]) (3.1.1)\n",
      "Requirement already satisfied: defusedxml in /opt/conda/lib/python3.7/site-packages (from nbconvert>=5.3.1->phik==0.9.9->pandas_profiling[html,notebook]) (0.6.0)\n",
      "Requirement already satisfied: pandocfilters>=1.4.1 in /opt/conda/lib/python3.7/site-packages (from nbconvert>=5.3.1->phik==0.9.9->pandas_profiling[html,notebook]) (1.4.2)\n",
      "Requirement already satisfied: testpath in /opt/conda/lib/python3.7/site-packages (from nbconvert>=5.3.1->phik==0.9.9->pandas_profiling[html,notebook]) (0.4.4)\n",
      "Requirement already satisfied: wcwidth in /opt/conda/lib/python3.7/site-packages (from pytest>=4.0.2->phik==0.9.9->pandas_profiling[html,notebook]) (0.1.8)\n",
      "Requirement already satisfied: packaging in /opt/conda/lib/python3.7/site-packages (from pytest>=4.0.2->phik==0.9.9->pandas_profiling[html,notebook]) (20.1)\n",
      "Requirement already satisfied: py>=1.5.0 in /opt/conda/lib/python3.7/site-packages (from pytest>=4.0.2->phik==0.9.9->pandas_profiling[html,notebook]) (1.8.1)\n",
      "Requirement already satisfied: attrs>=17.4.0 in /opt/conda/lib/python3.7/site-packages (from pytest>=4.0.2->phik==0.9.9->pandas_profiling[html,notebook]) (19.3.0)\n",
      "Requirement already satisfied: importlib-metadata>=0.12; python_version < \"3.8\" in /opt/conda/lib/python3.7/site-packages (from pytest>=4.0.2->phik==0.9.9->pandas_profiling[html,notebook]) (1.5.0)\n",
      "Requirement already satisfied: pluggy<1.0,>=0.12 in /opt/conda/lib/python3.7/site-packages (from pytest>=4.0.2->phik==0.9.9->pandas_profiling[html,notebook]) (0.13.1)\n",
      "Requirement already satisfied: more-itertools>=4.0.0 in /opt/conda/lib/python3.7/site-packages (from pytest>=4.0.2->phik==0.9.9->pandas_profiling[html,notebook]) (8.2.0)\n",
      "Requirement already satisfied: llvmlite<0.32.0,>=0.31.0dev0 in /opt/conda/lib/python3.7/site-packages (from numba>=0.38.1->phik==0.9.9->pandas_profiling[html,notebook]) (0.31.0)\n",
      "Requirement already satisfied: pylint>=2.0.0 in /opt/conda/lib/python3.7/site-packages (from pytest-pylint>=0.13.0->phik==0.9.9->pandas_profiling[html,notebook]) (2.4.4)\n",
      "Requirement already satisfied: text-unidecode>=1.3 in /opt/conda/lib/python3.7/site-packages (from python-slugify->kaggle==1.5.6->pandas_profiling[html,notebook]) (1.3)\n",
      "Requirement already satisfied: ptyprocess>=0.5 in /opt/conda/lib/python3.7/site-packages (from pexpect; sys_platform != \"win32\"->ipython>=4.0.0; python_version >= \"3.3\"->ipywidgets==7.5.1->pandas_profiling[html,notebook]) (0.6.0)\n",
      "Requirement already satisfied: parso>=0.5.2 in /opt/conda/lib/python3.7/site-packages (from jedi>=0.10->ipython>=4.0.0; python_version >= \"3.3\"->ipywidgets==7.5.1->pandas_profiling[html,notebook]) (0.6.2)\n",
      "Requirement already satisfied: pyrsistent>=0.14.0 in /opt/conda/lib/python3.7/site-packages (from jsonschema!=2.5.0,>=2.4->nbformat>=4.2.0->ipywidgets==7.5.1->pandas_profiling[html,notebook]) (0.15.7)\n",
      "Requirement already satisfied: prometheus-client in /opt/conda/lib/python3.7/site-packages (from notebook>=4.4.1->widgetsnbextension~=3.5.0->ipywidgets==7.5.1->pandas_profiling[html,notebook]) (0.7.1)\n",
      "Requirement already satisfied: Send2Trash in /opt/conda/lib/python3.7/site-packages (from notebook>=4.4.1->widgetsnbextension~=3.5.0->ipywidgets==7.5.1->pandas_profiling[html,notebook]) (1.5.0)\n",
      "Requirement already satisfied: terminado>=0.8.1 in /opt/conda/lib/python3.7/site-packages (from notebook>=4.4.1->widgetsnbextension~=3.5.0->ipywidgets==7.5.1->pandas_profiling[html,notebook]) (0.8.3)\n",
      "Requirement already satisfied: webencodings in /opt/conda/lib/python3.7/site-packages (from bleach->nbconvert>=5.3.1->phik==0.9.9->pandas_profiling[html,notebook]) (0.5.1)\n",
      "Requirement already satisfied: zipp>=0.5 in /opt/conda/lib/python3.7/site-packages (from importlib-metadata>=0.12; python_version < \"3.8\"->pytest>=4.0.2->phik==0.9.9->pandas_profiling[html,notebook]) (3.1.0)\n",
      "Requirement already satisfied: isort<5,>=4.2.5 in /opt/conda/lib/python3.7/site-packages (from pylint>=2.0.0->pytest-pylint>=0.13.0->phik==0.9.9->pandas_profiling[html,notebook]) (4.3.21)\n",
      "Requirement already satisfied: astroid<2.4,>=2.3.0 in /opt/conda/lib/python3.7/site-packages (from pylint>=2.0.0->pytest-pylint>=0.13.0->phik==0.9.9->pandas_profiling[html,notebook]) (2.3.3)\n",
      "Requirement already satisfied: mccabe<0.7,>=0.6 in /opt/conda/lib/python3.7/site-packages (from pylint>=2.0.0->pytest-pylint>=0.13.0->phik==0.9.9->pandas_profiling[html,notebook]) (0.6.1)\n",
      "Requirement already satisfied: typed-ast<1.5,>=1.4.0; implementation_name == \"cpython\" and python_version < \"3.8\" in /opt/conda/lib/python3.7/site-packages (from astroid<2.4,>=2.3.0->pylint>=2.0.0->pytest-pylint>=0.13.0->phik==0.9.9->pandas_profiling[html,notebook]) (1.4.1)\n",
      "Requirement already satisfied: lazy-object-proxy==1.4.* in /opt/conda/lib/python3.7/site-packages (from astroid<2.4,>=2.3.0->pylint>=2.0.0->pytest-pylint>=0.13.0->phik==0.9.9->pandas_profiling[html,notebook]) (1.4.3)\n",
      "Requirement already satisfied: wrapt==1.11.* in /opt/conda/lib/python3.7/site-packages (from astroid<2.4,>=2.3.0->pylint>=2.0.0->pytest-pylint>=0.13.0->phik==0.9.9->pandas_profiling[html,notebook]) (1.11.2)\n",
      "Requirement already satisfied: matplotlib in /opt/conda/lib/python3.7/site-packages (3.1.3)\n",
      "Requirement already satisfied: pyparsing!=2.0.4,!=2.1.2,!=2.1.6,>=2.0.1 in /opt/conda/lib/python3.7/site-packages (from matplotlib) (2.4.6)\n",
      "Requirement already satisfied: cycler>=0.10 in /opt/conda/lib/python3.7/site-packages (from matplotlib) (0.10.0)\n",
      "Requirement already satisfied: numpy>=1.11 in /opt/conda/lib/python3.7/site-packages (from matplotlib) (1.18.1)\n",
      "Requirement already satisfied: kiwisolver>=1.0.1 in /opt/conda/lib/python3.7/site-packages (from matplotlib) (1.1.0)\n",
      "Requirement already satisfied: python-dateutil>=2.1 in /opt/conda/lib/python3.7/site-packages (from matplotlib) (2.8.1)\n",
      "Requirement already satisfied: six in /opt/conda/lib/python3.7/site-packages (from cycler>=0.10->matplotlib) (1.14.0)\n",
      "Requirement already satisfied: setuptools in /opt/conda/lib/python3.7/site-packages (from kiwisolver>=1.0.1->matplotlib) (45.2.0.post20200209)\n",
      "Requirement already satisfied: nibabel in /opt/conda/lib/python3.7/site-packages (3.0.2)\n",
      "Requirement already satisfied: numpy>=1.12 in /opt/conda/lib/python3.7/site-packages (from nibabel) (1.18.1)\n",
      "Requirement already satisfied: seaborn in /opt/conda/lib/python3.7/site-packages (0.10.0)\n",
      "Requirement already satisfied: matplotlib>=2.1.2 in /opt/conda/lib/python3.7/site-packages (from seaborn) (3.1.3)\n",
      "Requirement already satisfied: scipy>=1.0.1 in /opt/conda/lib/python3.7/site-packages (from seaborn) (1.4.1)\n",
      "Requirement already satisfied: numpy>=1.13.3 in /opt/conda/lib/python3.7/site-packages (from seaborn) (1.18.1)\n",
      "Requirement already satisfied: pandas>=0.22.0 in /opt/conda/lib/python3.7/site-packages (from seaborn) (0.25.3)\n",
      "Requirement already satisfied: pyparsing!=2.0.4,!=2.1.2,!=2.1.6,>=2.0.1 in /opt/conda/lib/python3.7/site-packages (from matplotlib>=2.1.2->seaborn) (2.4.6)\n",
      "Requirement already satisfied: cycler>=0.10 in /opt/conda/lib/python3.7/site-packages (from matplotlib>=2.1.2->seaborn) (0.10.0)\n",
      "Requirement already satisfied: kiwisolver>=1.0.1 in /opt/conda/lib/python3.7/site-packages (from matplotlib>=2.1.2->seaborn) (1.1.0)\n",
      "Requirement already satisfied: python-dateutil>=2.1 in /opt/conda/lib/python3.7/site-packages (from matplotlib>=2.1.2->seaborn) (2.8.1)\n",
      "Requirement already satisfied: pytz>=2017.2 in /opt/conda/lib/python3.7/site-packages (from pandas>=0.22.0->seaborn) (2019.3)\n",
      "Requirement already satisfied: six in /opt/conda/lib/python3.7/site-packages (from cycler>=0.10->matplotlib>=2.1.2->seaborn) (1.14.0)\n",
      "Requirement already satisfied: setuptools in /opt/conda/lib/python3.7/site-packages (from kiwisolver>=1.0.1->matplotlib>=2.1.2->seaborn) (45.2.0.post20200209)\n"
     ]
    }
   ],
   "source": [
    "! pip install pandas_profiling[notebook,html]\n",
    "! pip install matplotlib\n",
    "! pip install nibabel\n",
    "! pip install seaborn"
   ]
  },
  {
   "cell_type": "markdown",
   "metadata": {},
   "source": [
    "## Lets look at the metadata"
   ]
  },
  {
   "cell_type": "code",
   "execution_count": 187,
   "metadata": {},
   "outputs": [],
   "source": [
    "import pandas as pd\n",
    "import matplotlib.pyplot as plt\n",
    "from pandas_profiling import ProfileReport\n",
    "import seaborn as sns\n",
    "import numpy as np"
   ]
  },
  {
   "cell_type": "code",
   "execution_count": 170,
   "metadata": {},
   "outputs": [],
   "source": [
    "# Read the data\n",
    "path_root = '/home/jovyan/'\n",
    "data_folder = path_root + \"data/\"\n",
    "stroke_meta_data = pd.read_excel(data_folder + '20171106_ATLAS_Meta-Data_Release_1.1_Updated.xlsx')"
   ]
  },
  {
   "cell_type": "markdown",
   "metadata": {},
   "source": [
    "### Lets print the first few lines of the file and see whats what"
   ]
  },
  {
   "cell_type": "code",
   "execution_count": 171,
   "metadata": {},
   "outputs": [
    {
     "data": {
      "text/html": [
       "<div>\n",
       "<style scoped>\n",
       "    .dataframe tbody tr th:only-of-type {\n",
       "        vertical-align: middle;\n",
       "    }\n",
       "\n",
       "    .dataframe tbody tr th {\n",
       "        vertical-align: top;\n",
       "    }\n",
       "\n",
       "    .dataframe thead th {\n",
       "        text-align: right;\n",
       "    }\n",
       "</style>\n",
       "<table border=\"1\" class=\"dataframe\">\n",
       "  <thead>\n",
       "    <tr style=\"text-align: right;\">\n",
       "      <th></th>\n",
       "      <th>Unnamed: 0</th>\n",
       "      <th>Site ID</th>\n",
       "      <th>Subject ID</th>\n",
       "      <th>Organism</th>\n",
       "      <th>Organism Part</th>\n",
       "      <th>Developmental Stage</th>\n",
       "      <th># Strokes LH Cortical</th>\n",
       "      <th># Strokes LH subcortical</th>\n",
       "      <th># Strokes RH Cortical</th>\n",
       "      <th># Strokes RH subcortical</th>\n",
       "      <th>Other Location</th>\n",
       "      <th>Stroke type</th>\n",
       "      <th>Primary Stroke Location</th>\n",
       "      <th>Primary Stroke Location Hemisphere</th>\n",
       "      <th>Vascular territory</th>\n",
       "      <th>PVH</th>\n",
       "      <th>DWMH</th>\n",
       "      <th>Scanner Strength</th>\n",
       "      <th>Scanner Brand</th>\n",
       "      <th>Image Resolution</th>\n",
       "    </tr>\n",
       "  </thead>\n",
       "  <tbody>\n",
       "    <tr>\n",
       "      <th>0</th>\n",
       "      <td>1</td>\n",
       "      <td>c0001</td>\n",
       "      <td>c0001s0004t01</td>\n",
       "      <td>Homo sapiens</td>\n",
       "      <td>Brain</td>\n",
       "      <td>Adult</td>\n",
       "      <td>0</td>\n",
       "      <td>1</td>\n",
       "      <td>0</td>\n",
       "      <td>0</td>\n",
       "      <td>0</td>\n",
       "      <td>Embolic/Hemorrhagic</td>\n",
       "      <td>Basal ganglia, corona radiata</td>\n",
       "      <td>Left</td>\n",
       "      <td>Lacunar</td>\n",
       "      <td>1</td>\n",
       "      <td>0</td>\n",
       "      <td>1.5T</td>\n",
       "      <td>GE Signa</td>\n",
       "      <td>0.9 x 0.9 x 3.0 mm</td>\n",
       "    </tr>\n",
       "    <tr>\n",
       "      <th>1</th>\n",
       "      <td>2</td>\n",
       "      <td>c0001</td>\n",
       "      <td>c0001s0005t01</td>\n",
       "      <td>Homo sapiens</td>\n",
       "      <td>Brain</td>\n",
       "      <td>Adult</td>\n",
       "      <td>0</td>\n",
       "      <td>0</td>\n",
       "      <td>0</td>\n",
       "      <td>1</td>\n",
       "      <td>0</td>\n",
       "      <td>Embolic</td>\n",
       "      <td>Basal ganglia, corona radiata</td>\n",
       "      <td>Right</td>\n",
       "      <td>Lacunar</td>\n",
       "      <td>3</td>\n",
       "      <td>2</td>\n",
       "      <td>1.5T</td>\n",
       "      <td>GE Signa</td>\n",
       "      <td>0.9 x 0.9 x 3.0 mm</td>\n",
       "    </tr>\n",
       "    <tr>\n",
       "      <th>2</th>\n",
       "      <td>3</td>\n",
       "      <td>c0001</td>\n",
       "      <td>c0001s0006t01</td>\n",
       "      <td>Homo sapiens</td>\n",
       "      <td>Brain</td>\n",
       "      <td>Adult</td>\n",
       "      <td>1</td>\n",
       "      <td>0</td>\n",
       "      <td>0</td>\n",
       "      <td>0</td>\n",
       "      <td>0</td>\n",
       "      <td>Embolic</td>\n",
       "      <td>Parietal lobe</td>\n",
       "      <td>Left</td>\n",
       "      <td>MCA</td>\n",
       "      <td>1</td>\n",
       "      <td>0</td>\n",
       "      <td>1.5T</td>\n",
       "      <td>GE Signa</td>\n",
       "      <td>0.9 x 0.9 x 3.0 mm</td>\n",
       "    </tr>\n",
       "    <tr>\n",
       "      <th>3</th>\n",
       "      <td>4</td>\n",
       "      <td>c0001</td>\n",
       "      <td>c0001s0007t01</td>\n",
       "      <td>Homo sapiens</td>\n",
       "      <td>Brain</td>\n",
       "      <td>Adult</td>\n",
       "      <td>0</td>\n",
       "      <td>0</td>\n",
       "      <td>1</td>\n",
       "      <td>0</td>\n",
       "      <td>0</td>\n",
       "      <td>Embolic</td>\n",
       "      <td>Frontal, parietal lobes</td>\n",
       "      <td>Right</td>\n",
       "      <td>MCA</td>\n",
       "      <td>1</td>\n",
       "      <td>0</td>\n",
       "      <td>1.5T</td>\n",
       "      <td>GE Signa</td>\n",
       "      <td>0.9 x 0.9 x 3.0 mm</td>\n",
       "    </tr>\n",
       "    <tr>\n",
       "      <th>4</th>\n",
       "      <td>5</td>\n",
       "      <td>c0001</td>\n",
       "      <td>c0001s0008t01</td>\n",
       "      <td>Homo sapiens</td>\n",
       "      <td>Brain</td>\n",
       "      <td>Adult</td>\n",
       "      <td>0</td>\n",
       "      <td>1</td>\n",
       "      <td>1</td>\n",
       "      <td>0</td>\n",
       "      <td>0</td>\n",
       "      <td>Embolic</td>\n",
       "      <td>Frontal lobe, basal ganglia, insula</td>\n",
       "      <td>Right</td>\n",
       "      <td>MCA</td>\n",
       "      <td>2</td>\n",
       "      <td>1</td>\n",
       "      <td>1.5T</td>\n",
       "      <td>GE Signa</td>\n",
       "      <td>0.9 x 0.9 x 3.0 mm</td>\n",
       "    </tr>\n",
       "  </tbody>\n",
       "</table>\n",
       "</div>"
      ],
      "text/plain": [
       "   Unnamed: 0 Site ID     Subject ID      Organism Organism Part  \\\n",
       "0           1   c0001  c0001s0004t01  Homo sapiens         Brain   \n",
       "1           2   c0001  c0001s0005t01  Homo sapiens         Brain   \n",
       "2           3   c0001  c0001s0006t01  Homo sapiens         Brain   \n",
       "3           4   c0001  c0001s0007t01  Homo sapiens         Brain   \n",
       "4           5   c0001  c0001s0008t01  Homo sapiens         Brain   \n",
       "\n",
       "  Developmental Stage  # Strokes LH Cortical  # Strokes LH subcortical  \\\n",
       "0               Adult                      0                         1   \n",
       "1               Adult                      0                         0   \n",
       "2               Adult                      1                         0   \n",
       "3               Adult                      0                         0   \n",
       "4               Adult                      0                         1   \n",
       "\n",
       "   # Strokes RH Cortical  # Strokes RH subcortical  Other Location  \\\n",
       "0                      0                         0               0   \n",
       "1                      0                         1               0   \n",
       "2                      0                         0               0   \n",
       "3                      1                         0               0   \n",
       "4                      1                         0               0   \n",
       "\n",
       "           Stroke type              Primary Stroke Location  \\\n",
       "0  Embolic/Hemorrhagic        Basal ganglia, corona radiata   \n",
       "1              Embolic        Basal ganglia, corona radiata   \n",
       "2              Embolic                        Parietal lobe   \n",
       "3              Embolic              Frontal, parietal lobes   \n",
       "4              Embolic  Frontal lobe, basal ganglia, insula   \n",
       "\n",
       "  Primary Stroke Location Hemisphere Vascular territory  PVH  DWMH  \\\n",
       "0                               Left            Lacunar    1     0   \n",
       "1                              Right            Lacunar    3     2   \n",
       "2                               Left                MCA    1     0   \n",
       "3                              Right                MCA    1     0   \n",
       "4                              Right                MCA    2     1   \n",
       "\n",
       "  Scanner Strength Scanner Brand    Image Resolution  \n",
       "0             1.5T      GE Signa  0.9 x 0.9 x 3.0 mm  \n",
       "1             1.5T      GE Signa  0.9 x 0.9 x 3.0 mm  \n",
       "2             1.5T      GE Signa  0.9 x 0.9 x 3.0 mm  \n",
       "3             1.5T      GE Signa  0.9 x 0.9 x 3.0 mm  \n",
       "4             1.5T      GE Signa  0.9 x 0.9 x 3.0 mm  "
      ]
     },
     "execution_count": 171,
     "metadata": {},
     "output_type": "execute_result"
    }
   ],
   "source": [
    "stroke_meta_data.head()"
   ]
  },
  {
   "cell_type": "markdown",
   "metadata": {},
   "source": [
    "Lets generate a report looking at the raw data and see what is going on."
   ]
  },
  {
   "cell_type": "code",
   "execution_count": 172,
   "metadata": {
    "scrolled": true
   },
   "outputs": [
    {
     "data": {
      "application/vnd.jupyter.widget-view+json": {
       "model_id": "16016b46997f4bcaada46bf5fd816a76",
       "version_major": 2,
       "version_minor": 0
      },
      "text/plain": [
       "HBox(children=(FloatProgress(value=0.0, description='variables', max=20.0, style=ProgressStyle(description_wid…"
      ]
     },
     "metadata": {},
     "output_type": "display_data"
    },
    {
     "name": "stdout",
     "output_type": "stream",
     "text": [
      "\n"
     ]
    },
    {
     "data": {
      "application/vnd.jupyter.widget-view+json": {
       "model_id": "c87053e35b3a4bfd8c89f46313fea749",
       "version_major": 2,
       "version_minor": 0
      },
      "text/plain": [
       "HBox(children=(FloatProgress(value=0.0, description='correlations', max=6.0, style=ProgressStyle(description_w…"
      ]
     },
     "metadata": {},
     "output_type": "display_data"
    },
    {
     "name": "stdout",
     "output_type": "stream",
     "text": [
      "\n"
     ]
    },
    {
     "data": {
      "application/vnd.jupyter.widget-view+json": {
       "model_id": "51941acab48846b59d9de933e6066901",
       "version_major": 2,
       "version_minor": 0
      },
      "text/plain": [
       "HBox(children=(FloatProgress(value=0.0, description='interactions [continuous]', max=9.0, style=ProgressStyle(…"
      ]
     },
     "metadata": {},
     "output_type": "display_data"
    },
    {
     "name": "stdout",
     "output_type": "stream",
     "text": [
      "\n"
     ]
    },
    {
     "data": {
      "application/vnd.jupyter.widget-view+json": {
       "model_id": "6eb4ce7834a64154a20786fe17cd6519",
       "version_major": 2,
       "version_minor": 0
      },
      "text/plain": [
       "HBox(children=(FloatProgress(value=0.0, description='table', max=1.0, style=ProgressStyle(description_width='i…"
      ]
     },
     "metadata": {},
     "output_type": "display_data"
    },
    {
     "name": "stdout",
     "output_type": "stream",
     "text": [
      "\n"
     ]
    },
    {
     "data": {
      "application/vnd.jupyter.widget-view+json": {
       "model_id": "57dc211489df43ee9e8383c16a10b1a1",
       "version_major": 2,
       "version_minor": 0
      },
      "text/plain": [
       "HBox(children=(FloatProgress(value=0.0, description='missing', max=2.0, style=ProgressStyle(description_width=…"
      ]
     },
     "metadata": {},
     "output_type": "display_data"
    },
    {
     "name": "stdout",
     "output_type": "stream",
     "text": [
      "\n"
     ]
    },
    {
     "data": {
      "application/vnd.jupyter.widget-view+json": {
       "model_id": "0e9a7b5f2e67488599e09e6fee1f074a",
       "version_major": 2,
       "version_minor": 0
      },
      "text/plain": [
       "HBox(children=(FloatProgress(value=0.0, description='warnings', max=3.0, style=ProgressStyle(description_width…"
      ]
     },
     "metadata": {},
     "output_type": "display_data"
    },
    {
     "name": "stdout",
     "output_type": "stream",
     "text": [
      "\n"
     ]
    },
    {
     "data": {
      "application/vnd.jupyter.widget-view+json": {
       "model_id": "426726b7fa6c4052b634379fcf48ffa1",
       "version_major": 2,
       "version_minor": 0
      },
      "text/plain": [
       "HBox(children=(FloatProgress(value=0.0, description='package', max=1.0, style=ProgressStyle(description_width=…"
      ]
     },
     "metadata": {},
     "output_type": "display_data"
    },
    {
     "name": "stdout",
     "output_type": "stream",
     "text": [
      "\n"
     ]
    },
    {
     "data": {
      "application/vnd.jupyter.widget-view+json": {
       "model_id": "0c5124e50fef4322b662661edc987815",
       "version_major": 2,
       "version_minor": 0
      },
      "text/plain": [
       "HBox(children=(FloatProgress(value=0.0, description='build report structure', max=1.0, style=ProgressStyle(des…"
      ]
     },
     "metadata": {},
     "output_type": "display_data"
    },
    {
     "name": "stdout",
     "output_type": "stream",
     "text": [
      "\n"
     ]
    }
   ],
   "source": [
    "profile = ProfileReport(stroke_meta_data, title='Original Data Profiling Report', html={'style':{'full_width':True}})"
   ]
  },
  {
   "cell_type": "code",
   "execution_count": 174,
   "metadata": {},
   "outputs": [
    {
     "data": {
      "application/vnd.jupyter.widget-view+json": {
       "model_id": "5d7c6b0bf18c43588a35cb36ac454038",
       "version_major": 2,
       "version_minor": 0
      },
      "text/plain": [
       "Tab(children=(Tab(children=(GridBox(children=(VBox(children=(GridspecLayout(children=(HTML(value='Number of va…"
      ]
     },
     "metadata": {},
     "output_type": "display_data"
    },
    {
     "data": {
      "text/html": [
       "Report generated with <a href=\"https://github.com/pandas-profiling/pandas-profiling\">pandas-profiling</a>."
      ],
      "text/plain": [
       "<IPython.core.display.HTML object>"
      ]
     },
     "metadata": {},
     "output_type": "display_data"
    }
   ],
   "source": [
    "profile.to_widgets()"
   ]
  },
  {
   "cell_type": "markdown",
   "metadata": {},
   "source": [
    "Looking at this report we can see a few things:\n",
    "   + Going to the warnings tab:\n",
    "     + Subject ID is highly cardinal: 304 values\n",
    "       + We have 304 different patients\n",
    "     + Site ID, Scanner Strength, Scanner Brand, and Image Resolution are highly correlated with each other.\n",
    "       + This makes sense because only a handful of scanners were used at specific sites running specific configurations. \n",
    "       + For our purposes we don't care about the scanners so we are going to drop these values. \n",
    "   + Looking at the Individual Variables\n",
    "     + Unnamed: 0 has 304 unique values\n",
    "       + Subject ID also has 304 unique values\n",
    "       + We only need one unique key so lets drop Unnamed: 0\n",
    "     + We can drop the following because there is only one value linked to them:\n",
    "       + Organism: Homo sapiens\n",
    "       + Organism Part: Brain\n",
    "       + Developmental Stage: Adult\n",
    "     + Need to do some cleaning on Stroke Type\n",
    "       + We have Embolic and Emolic, the latter probably being a typo.\n",
    "       + We have \"Embolic/hemorrhagic\", \"Embolic/Hemorrhagic\", and \"Embolic or hemorrhagic\", all of which describe the same thing.\n",
    "     + Primary Stroke Location:\n",
    "       + We have alot of different stroke locations (103 values). A closer look will be required to see what is going on. These could be errors in entering the data (ie. like in the stroke type section).\n",
    "     + We will also want to reencode the data for some columns to make correlation analysis a bit easier for us to understand. \n",
    "       + Primary Stroke Location should correlate with Vascular Territory and Primary Stroke Location Hemisphere."
   ]
  },
  {
   "cell_type": "markdown",
   "metadata": {},
   "source": [
    "## Cleaning the data"
   ]
  },
  {
   "cell_type": "markdown",
   "metadata": {},
   "source": [
    "#### Dropping Unnecessary Columns"
   ]
  },
  {
   "cell_type": "code",
   "execution_count": 127,
   "metadata": {},
   "outputs": [
    {
     "data": {
      "text/plain": [
       "Index(['Unnamed: 0', 'Site ID', 'Subject ID', 'Organism', 'Organism Part',\n",
       "       'Developmental Stage', '# Strokes LH Cortical',\n",
       "       '# Strokes LH subcortical', '# Strokes RH Cortical',\n",
       "       '# Strokes RH subcortical', 'Other Location', 'Stroke type',\n",
       "       'Primary Stroke Location', 'Primary Stroke Location Hemisphere',\n",
       "       'Vascular territory', 'PVH', 'DWMH', 'Scanner Strength',\n",
       "       'Scanner Brand', 'Image Resolution'],\n",
       "      dtype='object')"
      ]
     },
     "execution_count": 127,
     "metadata": {},
     "output_type": "execute_result"
    }
   ],
   "source": [
    "stroke_meta_data.columns"
   ]
  },
  {
   "cell_type": "code",
   "execution_count": 128,
   "metadata": {},
   "outputs": [],
   "source": [
    "cleaned_stroke_meta_data = stroke_meta_data.drop(['Unnamed: 0', 'Site ID', 'Organism', 'Organism Part', 'Developmental Stage', 'Scanner Strength', 'Scanner Brand', 'Image Resolution'], axis=1)"
   ]
  },
  {
   "cell_type": "code",
   "execution_count": 129,
   "metadata": {},
   "outputs": [
    {
     "data": {
      "text/plain": [
       "Index(['Subject ID', '# Strokes LH Cortical', '# Strokes LH subcortical',\n",
       "       '# Strokes RH Cortical', '# Strokes RH subcortical', 'Other Location',\n",
       "       'Stroke type', 'Primary Stroke Location',\n",
       "       'Primary Stroke Location Hemisphere', 'Vascular territory', 'PVH',\n",
       "       'DWMH'],\n",
       "      dtype='object')"
      ]
     },
     "execution_count": 129,
     "metadata": {},
     "output_type": "execute_result"
    }
   ],
   "source": [
    "cleaned_stroke_meta_data.columns"
   ]
  },
  {
   "cell_type": "markdown",
   "metadata": {},
   "source": [
    "#### Checking Data types"
   ]
  },
  {
   "cell_type": "code",
   "execution_count": 130,
   "metadata": {
    "scrolled": true
   },
   "outputs": [
    {
     "data": {
      "text/plain": [
       "Subject ID                            object\n",
       "# Strokes LH Cortical                  int64\n",
       "# Strokes LH subcortical               int64\n",
       "# Strokes RH Cortical                  int64\n",
       "# Strokes RH subcortical               int64\n",
       "Other Location                         int64\n",
       "Stroke type                           object\n",
       "Primary Stroke Location               object\n",
       "Primary Stroke Location Hemisphere    object\n",
       "Vascular territory                    object\n",
       "PVH                                    int64\n",
       "DWMH                                   int64\n",
       "dtype: object"
      ]
     },
     "execution_count": 130,
     "metadata": {},
     "output_type": "execute_result"
    }
   ],
   "source": [
    "cleaned_stroke_meta_data.dtypes"
   ]
  },
  {
   "cell_type": "markdown",
   "metadata": {},
   "source": [
    "#### Adding in total # of Strokes Column"
   ]
  },
  {
   "cell_type": "code",
   "execution_count": 190,
   "metadata": {},
   "outputs": [],
   "source": [
    "def totalStrokes(row):\n",
    "    return row['# Strokes LH Cortical'] + row['# Strokes LH subcortical'] + row['# Strokes RH Cortical'] + row['# Strokes RH subcortical'] + row['Other Location']"
   ]
  },
  {
   "cell_type": "code",
   "execution_count": 191,
   "metadata": {},
   "outputs": [],
   "source": [
    "cleaned_stroke_meta_data['# Total Strokes'] = cleaned_stroke_meta_data.apply (lambda row: totalStrokes(row), axis=1)"
   ]
  },
  {
   "cell_type": "markdown",
   "metadata": {},
   "source": [
    "#### Cleaning Stroke Type"
   ]
  },
  {
   "cell_type": "code",
   "execution_count": 192,
   "metadata": {},
   "outputs": [],
   "source": [
    "# Fix the Emolic and Emoblic\n",
    "cleaned_stroke_meta_data = cleaned_stroke_meta_data.replace('Emolic', 'Embolic')\n",
    "cleaned_stroke_meta_data = cleaned_stroke_meta_data.replace('Emoblic', 'Embolic')\n",
    "\n",
    "# Fix the Emoblic/hemmoragic and Embolic or hemmoragic\n",
    "cleaned_stroke_meta_data = cleaned_stroke_meta_data.replace('Embolic/hemorrhagic', 'Embolic/Hemorrhagic')\n",
    "cleaned_stroke_meta_data = cleaned_stroke_meta_data.replace('Embolic or hemorrhagic', 'Embolic/Hemorrhagic')"
   ]
  },
  {
   "cell_type": "markdown",
   "metadata": {},
   "source": [
    "#### Cleaning the Primary Stroke Location"
   ]
  },
  {
   "cell_type": "code",
   "execution_count": 193,
   "metadata": {
    "scrolled": true
   },
   "outputs": [
    {
     "data": {
      "text/plain": [
       "array(['Basal ganglia, corona radiata', 'Parietal lobe',\n",
       "       'Frontal, parietal lobes', 'Frontal lobe, basal ganglia, insula',\n",
       "       'Frontal lobe, perirolandic region, basal gangial',\n",
       "       'Basal ganglia, insula, internal capsule', 'Basal gangia',\n",
       "       'Basal ganglia, internal capsule', 'Basal ganglia',\n",
       "       'Frontal and parietal lobes, basal ganglia',\n",
       "       'Frontal, temporal lobes', 'Frontal lobe',\n",
       "       'Frontal, parietal, temporal lobes', 'Centrum semiovale', 'Pons',\n",
       "       'Frontal lobe, basal ganglia',\n",
       "       'Frontal lobe, basal ganglia, internal capsule',\n",
       "       'Frontal lobe, basal ganglia, thalamus',\n",
       "       'Frontal and parietal lobes, corpus callosum',\n",
       "       'Frontal centrum semiovale, corona radiata',\n",
       "       'Corona radiata, basal ganglia',\n",
       "       'Basal ganglia, subinsular region', 'Corona radiata',\n",
       "       'Interal capsule', 'Thalamus', 'Middle frontal gyrus',\n",
       "       'Corona radiata, internal capsule',\n",
       "       'Corona radiata, internal capsule, basal ganglia',\n",
       "       'Internal capsule, thalamus',\n",
       "       'Basal ganglia, head of left caudate', 'Frontal, Temporal lobes',\n",
       "       'Frontal, parietal lobe', 'Lentiform nucleus, corona radiata',\n",
       "       'Right hemipons', 'Left hemipons',\n",
       "       'Precentral and postcentral gyri',\n",
       "       'Frontal, parietal, temporal lobes, basal ganlia',\n",
       "       'Frontal lobe (precentral gyrus)', 'Basal ganglia, thalmus',\n",
       "       'Cerebral peduncle',\n",
       "       'Basal ganglia, posterior limb internal capsule',\n",
       "       'Subinsular region, basal ganglia',\n",
       "       'Basal ganglia, frontal and temporal lobes', 'Internal capsule',\n",
       "       'Cerebellum', 'Frontal lobe, postcentral gyrus',\n",
       "       'Frontoparietal centrum semiovale',\n",
       "       'Corona radiata, basal ganglia, thalamus',\n",
       "       'Left aspect of the midbrain',\n",
       "       'Corona radiata, basal ganglia, internal capsule',\n",
       "       'Middle cerebral peduncle', 'Deep parietal white matter',\n",
       "       'Thalamus, internal capsule', 'Frontal lobe centrum semiovale',\n",
       "       'Frontal and parietal lobes (perirolandic)',\n",
       "       'Frontal and parietal lobes', 'Insula, subinsular regions',\n",
       "       'Thalamus, occipital lobe', 'Frontal corona radiata',\n",
       "       'Basal ganglia, corona radiata, subinsular region',\n",
       "       'Basal ganglia, corona radiata, internal capsule',\n",
       "       'Frontal, parietal, occipital lobes', 'Midbrain',\n",
       "       'Corona radiata, temporal lobe, basal ganglia',\n",
       "       'Corona radiata, frontal operculum, insula',\n",
       "       'Corona radiata, frontal lobe',\n",
       "       'Frontal and temporal lobes, basal ganglia',\n",
       "       'Frontal and parietal lobes, insula',\n",
       "       'Internal capsule, corona radiata',\n",
       "       'Basal ganglia, frontal and parietal lobes',\n",
       "       'Temporal lobe, Basal ganglia, corona radiata',\n",
       "       'Frontal lobe, corpus callosum',\n",
       "       'Basal ganglia, frontal and temporal operculum',\n",
       "       'Internal capsule, basal ganglia', 'Basal ganglia, temporal lobe',\n",
       "       'Temporal lobe, basal ganglia',\n",
       "       'Basal ganglia, internal capsule, temporal lobe',\n",
       "       'Basal ganglia, internal capsule, subinsular region',\n",
       "       'Basal ganglia, corona radiata, insula',\n",
       "       'Basal ganglia, frontal lobe', 'Frontal lobe, subinsular region',\n",
       "       'Basal ganglia, frontal lobe, insula',\n",
       "       'Frontal lobe, parietotemporal region, basal ganglia',\n",
       "       'Frontal, parietal, temporal lobes, Basal ganglia',\n",
       "       'Parietal, temporal lobes. Superior frontal gyrus.',\n",
       "       'Subinsular region', 'Frontal, temporal lobes. Basal ganglia.',\n",
       "       'Perirolandic region', 'Left precentral and superior frontal gyri',\n",
       "       'Parietal lobe, precentral gyrus',\n",
       "       'Frontal centrum semiovale/precentral gyrys',\n",
       "       'Corona radiata, centrum semiovale', 'Parietooccipital region',\n",
       "       'Corona radiata, Basal ganglia', 'Precentral gyrys',\n",
       "       'Frontal centrum semiovale', 'Parietal lobe (supramarginal gyrus)',\n",
       "       'Occipital, temporal lobes',\n",
       "       'Frontal lobe (inferior frontal gyrus)',\n",
       "       'Insula, parietal operculum, temporal lobe',\n",
       "       'Posterior limb internal capsule',\n",
       "       'Frontal, parietal, temporal lobes, basal ganglia',\n",
       "       'Thalamus, corona radiata, basal ganglia'], dtype=object)"
      ]
     },
     "execution_count": 193,
     "metadata": {},
     "output_type": "execute_result"
    }
   ],
   "source": [
    "cleaned_stroke_meta_data['Primary Stroke Location'].unique()"
   ]
  },
  {
   "cell_type": "markdown",
   "metadata": {},
   "source": [
    "After the looking at the unique values in the table, it looks like this table is perfect to encode in to a column per value and add a 1 if it happened there and a 0. We should take a look at the number of unique values."
   ]
  },
  {
   "cell_type": "code",
   "execution_count": 194,
   "metadata": {},
   "outputs": [],
   "source": [
    "import re\n",
    "\n",
    "def getUniqueSetForColumn(columnName, df):\n",
    "    s = []\n",
    "    for value in df[columnName].unique():\n",
    "        locations = re.split(', |\\. |/| and ', value)\n",
    "        for l in locations:\n",
    "            s.append(l.lower())\n",
    "    return set(s)"
   ]
  },
  {
   "cell_type": "code",
   "execution_count": 195,
   "metadata": {},
   "outputs": [
    {
     "data": {
      "text/plain": [
       "60"
      ]
     },
     "execution_count": 195,
     "metadata": {},
     "output_type": "execute_result"
    }
   ],
   "source": [
    "s = getUniqueSetForColumn('Primary Stroke Location', cleaned_stroke_meta_data)\n",
    "len(s)"
   ]
  },
  {
   "cell_type": "code",
   "execution_count": 196,
   "metadata": {
    "scrolled": true
   },
   "outputs": [
    {
     "data": {
      "text/plain": [
       "{'basal gangia',\n",
       " 'basal gangial',\n",
       " 'basal ganglia',\n",
       " 'basal ganglia.',\n",
       " 'basal ganlia',\n",
       " 'centrum semiovale',\n",
       " 'cerebellum',\n",
       " 'cerebral peduncle',\n",
       " 'corona radiata',\n",
       " 'corpus callosum',\n",
       " 'deep parietal white matter',\n",
       " 'frontal',\n",
       " 'frontal centrum semiovale',\n",
       " 'frontal corona radiata',\n",
       " 'frontal lobe',\n",
       " 'frontal lobe (inferior frontal gyrus)',\n",
       " 'frontal lobe (precentral gyrus)',\n",
       " 'frontal lobe centrum semiovale',\n",
       " 'frontal operculum',\n",
       " 'frontoparietal centrum semiovale',\n",
       " 'head of left caudate',\n",
       " 'insula',\n",
       " 'interal capsule',\n",
       " 'internal capsule',\n",
       " 'left aspect of the midbrain',\n",
       " 'left hemipons',\n",
       " 'left precentral',\n",
       " 'lentiform nucleus',\n",
       " 'midbrain',\n",
       " 'middle cerebral peduncle',\n",
       " 'middle frontal gyrus',\n",
       " 'occipital',\n",
       " 'occipital lobe',\n",
       " 'occipital lobes',\n",
       " 'parietal',\n",
       " 'parietal lobe',\n",
       " 'parietal lobe (supramarginal gyrus)',\n",
       " 'parietal lobes',\n",
       " 'parietal lobes (perirolandic)',\n",
       " 'parietal operculum',\n",
       " 'parietooccipital region',\n",
       " 'parietotemporal region',\n",
       " 'perirolandic region',\n",
       " 'pons',\n",
       " 'postcentral gyri',\n",
       " 'postcentral gyrus',\n",
       " 'posterior limb internal capsule',\n",
       " 'precentral',\n",
       " 'precentral gyrus',\n",
       " 'precentral gyrys',\n",
       " 'right hemipons',\n",
       " 'subinsular region',\n",
       " 'subinsular regions',\n",
       " 'superior frontal gyri',\n",
       " 'superior frontal gyrus.',\n",
       " 'temporal lobe',\n",
       " 'temporal lobes',\n",
       " 'temporal operculum',\n",
       " 'thalamus',\n",
       " 'thalmus'}"
      ]
     },
     "execution_count": 196,
     "metadata": {},
     "output_type": "execute_result"
    }
   ],
   "source": [
    "s"
   ]
  },
  {
   "cell_type": "markdown",
   "metadata": {},
   "source": [
    "Looking at the above we can make the following corrections:\n",
    "+ basal gangia, basal gangial, basal ganglia, basal ganglia, basal ganlia are all the same. \n",
    "+ Frontal and all of its varients to frontal lobe\n",
    "+ interal capsule and internal capsule\n",
    "+ occiptal and all of its varients to occipital lobe\n",
    "+ parietal and all of its varients to parietal loble\n",
    "+ precentral gyrys and gyri to gyrus\n",
    "+ temporal lobe to lobes\n",
    "+ thalamus to thalamus"
   ]
  },
  {
   "cell_type": "code",
   "execution_count": 197,
   "metadata": {},
   "outputs": [],
   "source": [
    "def returnCorrectedValue(val):\n",
    "    if val == 'basal gangia' or val == 'basal gangial' or val == 'basal ganglia' or val == 'basal ganglia' or val == 'basal ganli' or val == 'basal ganglia.' or val == 'basal ganlia':\n",
    "        return 'Basal Ganglia'\n",
    "    if (val == 'frontal' or val == 'frontal lobe'):\n",
    "        return 'Frontal Lobe'\n",
    "    if val == 'frontal centrum semiovale' or val == 'frontoparietal centrum semiovale':\n",
    "        return 'Frontal Centrum Semiovale'\n",
    "    if val == 'interal capsule' or val == 'internal capsule':\n",
    "        return 'Internal Capsule'\n",
    "    if val == 'occipital' or val == 'occipital lobe' or val == 'occipital lobes':\n",
    "        return 'Occipital Lobe'\n",
    "    if val == 'parietal' or val == 'parietal lobe' or val == 'parietal lobes':\n",
    "        return 'Parietal Lobe'\n",
    "    if val == 'parietal lobes (perirolandic)' or val == 'perirolandic region':\n",
    "        return 'Perirolandic Region'\n",
    "    if val == 'postcentral gyri' or val == 'postcentral gyrus':\n",
    "        return 'Postcentral Gyrus'\n",
    "    if val == 'precentral' or val == 'precentral gyrus' or val == 'precentral gyrys' or val == 'frontal lobe (precentral gyrus)':\n",
    "        return 'Precentral Gyrus'\n",
    "    if val == 'subinsular region' or val == 'subinsular regions':\n",
    "        return 'Subinsular Region'\n",
    "    if val == 'superior frontal gyri' or val == 'superior frontal gyrus' or val == 'superior frontal gyrus.':\n",
    "        return 'Superior Frontal Gyrus'\n",
    "    if val == 'temporal lobe' or val == 'temporal lobes':\n",
    "        return 'Temporal Lobe'\n",
    "    if val == 'thalamus' or val == 'thalmus':\n",
    "        return 'thalamus'\n",
    "    \n",
    "    return val;"
   ]
  },
  {
   "cell_type": "code",
   "execution_count": 198,
   "metadata": {},
   "outputs": [],
   "source": [
    "normalized_stroke_meta_data = cleaned_stroke_meta_data.copy()\n",
    "\n",
    "for index, row in normalized_stroke_meta_data.iterrows():\n",
    "    loc = row['Primary Stroke Location']\n",
    "    newLoc = []\n",
    "    locations = re.split(', |\\. |/| and ', loc)\n",
    "    for l in locations:\n",
    "        newLoc.append(returnCorrectedValue(l.lower()))\n",
    "    \n",
    "    newLoc.sort()\n",
    "    normalized_stroke_meta_data.at[index, 'Primary Stroke Location'] = ', '.join(newLoc).lower()"
   ]
  },
  {
   "cell_type": "code",
   "execution_count": 199,
   "metadata": {},
   "outputs": [
    {
     "data": {
      "text/plain": [
       "40"
      ]
     },
     "execution_count": 199,
     "metadata": {},
     "output_type": "execute_result"
    }
   ],
   "source": [
    "s = getUniqueSetForColumn('Primary Stroke Location', normalized_stroke_meta_data)\n",
    "len(s)"
   ]
  },
  {
   "cell_type": "code",
   "execution_count": 200,
   "metadata": {
    "collapsed": true
   },
   "outputs": [
    {
     "data": {
      "text/plain": [
       "{'basal ganglia',\n",
       " 'centrum semiovale',\n",
       " 'cerebellum',\n",
       " 'cerebral peduncle',\n",
       " 'corona radiata',\n",
       " 'corpus callosum',\n",
       " 'deep parietal white matter',\n",
       " 'frontal centrum semiovale',\n",
       " 'frontal corona radiata',\n",
       " 'frontal lobe',\n",
       " 'frontal lobe (inferior frontal gyrus)',\n",
       " 'frontal lobe centrum semiovale',\n",
       " 'frontal operculum',\n",
       " 'head of left caudate',\n",
       " 'insula',\n",
       " 'internal capsule',\n",
       " 'left aspect of the midbrain',\n",
       " 'left hemipons',\n",
       " 'left precentral',\n",
       " 'lentiform nucleus',\n",
       " 'midbrain',\n",
       " 'middle cerebral peduncle',\n",
       " 'middle frontal gyrus',\n",
       " 'occipital lobe',\n",
       " 'parietal lobe',\n",
       " 'parietal lobe (supramarginal gyrus)',\n",
       " 'parietal operculum',\n",
       " 'parietooccipital region',\n",
       " 'parietotemporal region',\n",
       " 'perirolandic region',\n",
       " 'pons',\n",
       " 'postcentral gyrus',\n",
       " 'posterior limb internal capsule',\n",
       " 'precentral gyrus',\n",
       " 'right hemipons',\n",
       " 'subinsular region',\n",
       " 'superior frontal gyrus',\n",
       " 'temporal lobe',\n",
       " 'temporal operculum',\n",
       " 'thalamus'}"
      ]
     },
     "execution_count": 200,
     "metadata": {},
     "output_type": "execute_result"
    }
   ],
   "source": [
    "s"
   ]
  },
  {
   "cell_type": "markdown",
   "metadata": {},
   "source": [
    "This can probably be reduced even more, but we can take a look at that at a later time."
   ]
  },
  {
   "cell_type": "code",
   "execution_count": 201,
   "metadata": {},
   "outputs": [
    {
     "data": {
      "text/plain": [
       "78"
      ]
     },
     "execution_count": 201,
     "metadata": {},
     "output_type": "execute_result"
    }
   ],
   "source": [
    "len(normalized_stroke_meta_data['Primary Stroke Location'].unique())"
   ]
  },
  {
   "cell_type": "code",
   "execution_count": 202,
   "metadata": {
    "collapsed": true
   },
   "outputs": [
    {
     "data": {
      "text/plain": [
       "array(['basal ganglia, corona radiata', 'parietal lobe',\n",
       "       'frontal lobe, parietal lobe',\n",
       "       'basal ganglia, frontal lobe, insula',\n",
       "       'basal ganglia, frontal lobe, perirolandic region',\n",
       "       'basal ganglia, internal capsule, insula', 'basal ganglia',\n",
       "       'basal ganglia, internal capsule',\n",
       "       'basal ganglia, frontal lobe, parietal lobe',\n",
       "       'frontal lobe, temporal lobe', 'frontal lobe',\n",
       "       'frontal lobe, parietal lobe, temporal lobe', 'centrum semiovale',\n",
       "       'pons', 'basal ganglia, frontal lobe',\n",
       "       'basal ganglia, frontal lobe, internal capsule',\n",
       "       'basal ganglia, frontal lobe, thalamus',\n",
       "       'frontal lobe, parietal lobe, corpus callosum',\n",
       "       'frontal centrum semiovale, corona radiata',\n",
       "       'basal ganglia, subinsular region', 'corona radiata',\n",
       "       'internal capsule', 'thalamus', 'middle frontal gyrus',\n",
       "       'internal capsule, corona radiata',\n",
       "       'basal ganglia, internal capsule, corona radiata',\n",
       "       'internal capsule, thalamus',\n",
       "       'basal ganglia, head of left caudate',\n",
       "       'corona radiata, lentiform nucleus', 'right hemipons',\n",
       "       'left hemipons', 'postcentral gyrus, precentral gyrus',\n",
       "       'basal ganglia, frontal lobe, parietal lobe, temporal lobe',\n",
       "       'precentral gyrus', 'basal ganglia, thalamus', 'cerebral peduncle',\n",
       "       'basal ganglia, posterior limb internal capsule',\n",
       "       'basal ganglia, frontal lobe, temporal lobe', 'cerebellum',\n",
       "       'frontal lobe, postcentral gyrus', 'frontal centrum semiovale',\n",
       "       'basal ganglia, corona radiata, thalamus',\n",
       "       'left aspect of the midbrain', 'middle cerebral peduncle',\n",
       "       'deep parietal white matter', 'frontal lobe centrum semiovale',\n",
       "       'frontal lobe, perirolandic region', 'subinsular region, insula',\n",
       "       'occipital lobe, thalamus', 'frontal corona radiata',\n",
       "       'basal ganglia, subinsular region, corona radiata',\n",
       "       'frontal lobe, occipital lobe, parietal lobe', 'midbrain',\n",
       "       'basal ganglia, temporal lobe, corona radiata',\n",
       "       'corona radiata, frontal operculum, insula',\n",
       "       'frontal lobe, corona radiata',\n",
       "       'frontal lobe, parietal lobe, insula',\n",
       "       'frontal lobe, corpus callosum',\n",
       "       'basal ganglia, frontal lobe, temporal operculum',\n",
       "       'basal ganglia, temporal lobe',\n",
       "       'basal ganglia, internal capsule, temporal lobe',\n",
       "       'basal ganglia, internal capsule, subinsular region',\n",
       "       'basal ganglia, corona radiata, insula',\n",
       "       'frontal lobe, subinsular region',\n",
       "       'basal ganglia, frontal lobe, parietotemporal region',\n",
       "       'parietal lobe, superior frontal gyrus, temporal lobe',\n",
       "       'subinsular region', 'perirolandic region',\n",
       "       'superior frontal gyrus, left precentral',\n",
       "       'parietal lobe, precentral gyrus',\n",
       "       'frontal centrum semiovale, precentral gyrus',\n",
       "       'centrum semiovale, corona radiata', 'parietooccipital region',\n",
       "       'parietal lobe (supramarginal gyrus)',\n",
       "       'occipital lobe, temporal lobe',\n",
       "       'frontal lobe (inferior frontal gyrus)',\n",
       "       'temporal lobe, insula, parietal operculum',\n",
       "       'posterior limb internal capsule'], dtype=object)"
      ]
     },
     "execution_count": 202,
     "metadata": {},
     "output_type": "execute_result"
    }
   ],
   "source": [
    "normalized_stroke_meta_data['Primary Stroke Location'].unique()"
   ]
  },
  {
   "cell_type": "code",
   "execution_count": 203,
   "metadata": {},
   "outputs": [],
   "source": [
    "def numLocations(row):\n",
    "    return len(row['Primary Stroke Location'].split(', '))"
   ]
  },
  {
   "cell_type": "code",
   "execution_count": 204,
   "metadata": {},
   "outputs": [],
   "source": [
    "normalized_stroke_meta_data['# of Locations'] = normalized_stroke_meta_data.apply (lambda row: numLocations(row), axis=1)"
   ]
  },
  {
   "cell_type": "markdown",
   "metadata": {},
   "source": [
    "### Profile new data"
   ]
  },
  {
   "cell_type": "code",
   "execution_count": 205,
   "metadata": {
    "collapsed": true
   },
   "outputs": [
    {
     "data": {
      "text/plain": [
       "Subject ID                            object\n",
       "# Strokes LH Cortical                  int64\n",
       "# Strokes LH subcortical               int64\n",
       "# Strokes RH Cortical                  int64\n",
       "# Strokes RH subcortical               int64\n",
       "Other Location                         int64\n",
       "Stroke type                           object\n",
       "Primary Stroke Location               object\n",
       "Primary Stroke Location Hemisphere    object\n",
       "Vascular territory                    object\n",
       "PVH                                    int64\n",
       "DWMH                                   int64\n",
       "# Total Strokes                        int64\n",
       "# of Locations                         int64\n",
       "dtype: object"
      ]
     },
     "execution_count": 205,
     "metadata": {},
     "output_type": "execute_result"
    }
   ],
   "source": [
    "normalized_stroke_meta_data.dtypes"
   ]
  },
  {
   "cell_type": "code",
   "execution_count": 206,
   "metadata": {
    "collapsed": true
   },
   "outputs": [
    {
     "data": {
      "application/vnd.jupyter.widget-view+json": {
       "model_id": "cac79da136d249ba81b4ff66e71c09d3",
       "version_major": 2,
       "version_minor": 0
      },
      "text/plain": [
       "HBox(children=(FloatProgress(value=0.0, description='variables', max=14.0, style=ProgressStyle(description_wid…"
      ]
     },
     "metadata": {},
     "output_type": "display_data"
    },
    {
     "name": "stdout",
     "output_type": "stream",
     "text": [
      "\n"
     ]
    },
    {
     "data": {
      "application/vnd.jupyter.widget-view+json": {
       "model_id": "ce86d890f61c4a1996e88695a1476d3f",
       "version_major": 2,
       "version_minor": 0
      },
      "text/plain": [
       "HBox(children=(FloatProgress(value=0.0, description='correlations', max=6.0, style=ProgressStyle(description_w…"
      ]
     },
     "metadata": {},
     "output_type": "display_data"
    },
    {
     "name": "stdout",
     "output_type": "stream",
     "text": [
      "\n"
     ]
    },
    {
     "data": {
      "application/vnd.jupyter.widget-view+json": {
       "model_id": "5e18b13978be4d5ea983864bc327e113",
       "version_major": 2,
       "version_minor": 0
      },
      "text/plain": [
       "HBox(children=(FloatProgress(value=0.0, description='interactions [continuous]', max=9.0, style=ProgressStyle(…"
      ]
     },
     "metadata": {},
     "output_type": "display_data"
    },
    {
     "name": "stdout",
     "output_type": "stream",
     "text": [
      "\n"
     ]
    },
    {
     "data": {
      "application/vnd.jupyter.widget-view+json": {
       "model_id": "6d42511b609845d6860b8d48ecd272d6",
       "version_major": 2,
       "version_minor": 0
      },
      "text/plain": [
       "HBox(children=(FloatProgress(value=0.0, description='table', max=1.0, style=ProgressStyle(description_width='i…"
      ]
     },
     "metadata": {},
     "output_type": "display_data"
    },
    {
     "name": "stdout",
     "output_type": "stream",
     "text": [
      "\n"
     ]
    },
    {
     "data": {
      "application/vnd.jupyter.widget-view+json": {
       "model_id": "42c26efe9a924d34a3319ea53858280f",
       "version_major": 2,
       "version_minor": 0
      },
      "text/plain": [
       "HBox(children=(FloatProgress(value=0.0, description='missing', max=2.0, style=ProgressStyle(description_width=…"
      ]
     },
     "metadata": {},
     "output_type": "display_data"
    },
    {
     "name": "stdout",
     "output_type": "stream",
     "text": [
      "\n"
     ]
    },
    {
     "data": {
      "application/vnd.jupyter.widget-view+json": {
       "model_id": "14b29d4e3d42453b8f2c528a5aa5a93d",
       "version_major": 2,
       "version_minor": 0
      },
      "text/plain": [
       "HBox(children=(FloatProgress(value=0.0, description='warnings', max=3.0, style=ProgressStyle(description_width…"
      ]
     },
     "metadata": {},
     "output_type": "display_data"
    },
    {
     "name": "stdout",
     "output_type": "stream",
     "text": [
      "\n"
     ]
    },
    {
     "data": {
      "application/vnd.jupyter.widget-view+json": {
       "model_id": "28a6183ffd0a44a38ae1f5d94c467827",
       "version_major": 2,
       "version_minor": 0
      },
      "text/plain": [
       "HBox(children=(FloatProgress(value=0.0, description='package', max=1.0, style=ProgressStyle(description_width=…"
      ]
     },
     "metadata": {},
     "output_type": "display_data"
    },
    {
     "name": "stdout",
     "output_type": "stream",
     "text": [
      "\n"
     ]
    },
    {
     "data": {
      "application/vnd.jupyter.widget-view+json": {
       "model_id": "e65c8f756a26440a8881232a8eea8299",
       "version_major": 2,
       "version_minor": 0
      },
      "text/plain": [
       "HBox(children=(FloatProgress(value=0.0, description='build report structure', max=1.0, style=ProgressStyle(des…"
      ]
     },
     "metadata": {},
     "output_type": "display_data"
    },
    {
     "name": "stdout",
     "output_type": "stream",
     "text": [
      "\n"
     ]
    }
   ],
   "source": [
    "profile = ProfileReport(normalized_stroke_meta_data, title='Original Data Profiling Report', html={'style':{'full_width':True}})"
   ]
  },
  {
   "cell_type": "code",
   "execution_count": 207,
   "metadata": {
    "collapsed": true
   },
   "outputs": [
    {
     "data": {
      "application/vnd.jupyter.widget-view+json": {
       "model_id": "5b3d3972c6104edaaeeaf8de24355829",
       "version_major": 2,
       "version_minor": 0
      },
      "text/plain": [
       "Tab(children=(Tab(children=(GridBox(children=(VBox(children=(GridspecLayout(children=(HTML(value='Number of va…"
      ]
     },
     "metadata": {},
     "output_type": "display_data"
    },
    {
     "data": {
      "text/html": [
       "Report generated with <a href=\"https://github.com/pandas-profiling/pandas-profiling\">pandas-profiling</a>."
      ],
      "text/plain": [
       "<IPython.core.display.HTML object>"
      ]
     },
     "metadata": {},
     "output_type": "display_data"
    }
   ],
   "source": [
    "profile.to_widgets()"
   ]
  },
  {
   "cell_type": "markdown",
   "metadata": {},
   "source": [
    "The Correlation plot above wasn't super useful, it wasn't taking the data types correctly. Let try it again..."
   ]
  },
  {
   "cell_type": "code",
   "execution_count": 208,
   "metadata": {},
   "outputs": [
    {
     "data": {
      "text/plain": [
       "<matplotlib.axes._subplots.AxesSubplot at 0x7fa37dc33a10>"
      ]
     },
     "execution_count": 208,
     "metadata": {},
     "output_type": "execute_result"
    },
    {
     "data": {
      "image/png": "[encoded data removed]",
      "text/plain": [
       "<Figure size 792x648 with 2 Axes>"
      ]
     },
     "metadata": {},
     "output_type": "display_data"
    }
   ],
   "source": [
    "# Compute the correlation matrix\n",
    "corr = normalized_stroke_meta_data.corr()\n",
    "\n",
    "# Generate a mask for the upper triangle\n",
    "mask = np.triu(np.ones_like(corr, dtype=np.bool))\n",
    "\n",
    "# Set up the matplotlib figure\n",
    "f, ax = plt.subplots(figsize=(11, 9))\n",
    "\n",
    "# Generate a custom diverging colormap\n",
    "cmap = sns.diverging_palette(220, 10, as_cmap=True)\n",
    "\n",
    "# Draw the heatmap with the mask and correct aspect ratio\n",
    "sns.heatmap(corr, mask=mask, cmap=cmap, vmax=.3, center=0,\n",
    "            square=True, linewidths=.5, cbar_kws={\"shrink\": .5})"
   ]
  },
  {
   "cell_type": "markdown",
   "metadata": {},
   "source": [
    "#### Save the new Metadata frame\n",
    "We will probably want to use this durring the training."
   ]
  },
  {
   "cell_type": "code",
   "execution_count": 184,
   "metadata": {},
   "outputs": [],
   "source": [
    "normalized_stroke_meta_data.to_pickle(data_folder + \"normalized_data.pkl\")"
   ]
  },
  {
   "cell_type": "markdown",
   "metadata": {},
   "source": [
    "## Now lets look at a scan"
   ]
  },
  {
   "cell_type": "code",
   "execution_count": 216,
   "metadata": {},
   "outputs": [],
   "source": [
    "import nibabel as nib\n",
    "from ipywidgets import interact, interactive, fixed, interact_manual\n",
    "import ipywidgets as widgets"
   ]
  },
  {
   "cell_type": "code",
   "execution_count": 210,
   "metadata": {},
   "outputs": [],
   "source": [
    "brain_scan_file_path = data_folder + 'native/native_1/c0001/c0001s0004t01/c0001s0004t01.nii.gz'\n",
    "lesion_mask_file_path = data_folder + 'native/native_1/c0001/c0001s0004t01/c0001s0004t01_LesionSmooth.nii.gz'"
   ]
  },
  {
   "cell_type": "code",
   "execution_count": 221,
   "metadata": {},
   "outputs": [],
   "source": [
    "brain_img = nib.load(brain_scan_file_path).get_fdata()"
   ]
  },
  {
   "cell_type": "code",
   "execution_count": 234,
   "metadata": {},
   "outputs": [],
   "source": [
    "lesion_img = nib.load(lesion_mask_file_path).get_fdata()"
   ]
  },
  {
   "cell_type": "code",
   "execution_count": 213,
   "metadata": {},
   "outputs": [
    {
     "data": {
      "text/plain": [
       "(256, 256, 120)"
      ]
     },
     "execution_count": 213,
     "metadata": {},
     "output_type": "execute_result"
    }
   ],
   "source": [
    "brain_img.shape"
   ]
  },
  {
   "cell_type": "code",
   "execution_count": 214,
   "metadata": {},
   "outputs": [
    {
     "data": {
      "text/plain": [
       "(256, 256, 120)"
      ]
     },
     "execution_count": 214,
     "metadata": {},
     "output_type": "execute_result"
    }
   ],
   "source": [
    "lesion_img.shape"
   ]
  },
  {
   "cell_type": "code",
   "execution_count": 223,
   "metadata": {},
   "outputs": [],
   "source": [
    "%matplotlib inline"
   ]
  },
  {
   "cell_type": "code",
   "execution_count": 238,
   "metadata": {},
   "outputs": [],
   "source": [
    "def draw_brain_img(x):\n",
    "    plt.imshow(brain_img[:,x,:])"
   ]
  },
  {
   "cell_type": "code",
   "execution_count": 240,
   "metadata": {},
   "outputs": [
    {
     "data": {
      "application/vnd.jupyter.widget-view+json": {
       "model_id": "d8d2c20b7b1145368472a3c72fbbea76",
       "version_major": 2,
       "version_minor": 0
      },
      "text/plain": [
       "interactive(children=(IntSlider(value=128, description='x', max=255), Output()), _dom_classes=('widget-interac…"
      ]
     },
     "metadata": {},
     "output_type": "display_data"
    }
   ],
   "source": [
    "interact(draw_brain_img, x=widgets.IntSlider(min=0, max=brain_img.shape[1] - 1, step=1, value=brain_img.shape[1]/2));"
   ]
  },
  {
   "cell_type": "code",
   "execution_count": 242,
   "metadata": {},
   "outputs": [],
   "source": [
    "def draw_lesion_img(x):\n",
    "    plt.imshow(lesion_img[:,x,:])"
   ]
  },
  {
   "cell_type": "code",
   "execution_count": 243,
   "metadata": {},
   "outputs": [
    {
     "data": {
      "application/vnd.jupyter.widget-view+json": {
       "model_id": "c44628f5bcb44139a16b179c37c8b890",
       "version_major": 2,
       "version_minor": 0
      },
      "text/plain": [
       "interactive(children=(IntSlider(value=128, description='x', max=255), Output()), _dom_classes=('widget-interac…"
      ]
     },
     "metadata": {},
     "output_type": "display_data"
    }
   ],
   "source": [
    "interact(draw_lesion_img, x=widgets.IntSlider(min=0, max=lesion_img.shape[1] - 1, step=1, value=lesion_img.shape[1]/2));"
   ]
  },
  {
   "cell_type": "code",
   "execution_count": 252,
   "metadata": {},
   "outputs": [],
   "source": [
    "brain_scan_file_path = data_folder + 'native/native_1/c0004/c0004s0004t01/c0004s0004t01.nii.gz'\n",
    "lesion_mask_file_path = data_folder + 'native/native_1/c0004/c0004s0004t01/c0004s0004t01_LesionSmooth.nii.gz'"
   ]
  },
  {
   "cell_type": "code",
   "execution_count": 253,
   "metadata": {},
   "outputs": [],
   "source": [
    "brain_img = nib.load(brain_scan_file_path).get_fdata()\n",
    "lesion_img = nib.load(lesion_mask_file_path).get_fdata()"
   ]
  },
  {
   "cell_type": "code",
   "execution_count": 254,
   "metadata": {},
   "outputs": [
    {
     "data": {
      "text/plain": [
       "(154, 197, 197)"
      ]
     },
     "execution_count": 254,
     "metadata": {},
     "output_type": "execute_result"
    }
   ],
   "source": [
    "brain_img.shape"
   ]
  },
  {
   "cell_type": "code",
   "execution_count": 255,
   "metadata": {},
   "outputs": [
    {
     "data": {
      "text/plain": [
       "(154, 197, 197)"
      ]
     },
     "execution_count": 255,
     "metadata": {},
     "output_type": "execute_result"
    }
   ],
   "source": [
    "lesion_img.shape"
   ]
  },
  {
   "cell_type": "code",
   "execution_count": 263,
   "metadata": {},
   "outputs": [],
   "source": [
    "def draw_lesion_img(x):\n",
    "    plt.imshow(lesion_img[:,:,x])"
   ]
  },
  {
   "cell_type": "code",
   "execution_count": 264,
   "metadata": {},
   "outputs": [
    {
     "data": {
      "application/vnd.jupyter.widget-view+json": {
       "model_id": "6e62383aac1b4a1b9161274b137ac99f",
       "version_major": 2,
       "version_minor": 0
      },
      "text/plain": [
       "interactive(children=(IntSlider(value=98, description='x', max=196), Output()), _dom_classes=('widget-interact…"
      ]
     },
     "metadata": {},
     "output_type": "display_data"
    }
   ],
   "source": [
    "interact(draw_lesion_img, x=widgets.IntSlider(min=0, max=lesion_img.shape[1] - 1, step=1, value=lesion_img.shape[1]/2));"
   ]
  },
  {
   "cell_type": "code",
   "execution_count": 265,
   "metadata": {},
   "outputs": [],
   "source": [
    "def draw_brain_img(x):\n",
    "    plt.imshow(brain_img[:,:,x])\n"
   ]
  },
  {
   "cell_type": "code",
   "execution_count": 266,
   "metadata": {},
   "outputs": [
    {
     "data": {
      "application/vnd.jupyter.widget-view+json": {
       "model_id": "7427e37b6b624e298befde1f7e22d68e",
       "version_major": 2,
       "version_minor": 0
      },
      "text/plain": [
       "interactive(children=(IntSlider(value=98, description='x', max=196), Output()), _dom_classes=('widget-interact…"
      ]
     },
     "metadata": {},
     "output_type": "display_data"
    }
   ],
   "source": [
    "interact(draw_brain_img, x=widgets.IntSlider(min=0, max=brain_img.shape[2] - 1, step=1, value=brain_img.shape[2]/2));"
   ]
  },
  {
   "cell_type": "markdown",
   "metadata": {},
   "source": [
    "We know the scans are coming in multiple formats and in multiple ways and sizes. We need to format them so that they are all one type and one size. I'm choosing to do a axial slicing of the patient and resize the image to 256x256 by either padding or cropping. I will need to do this twice, once for the brain image and once for the lesion mask. "
   ]
  },
  {
   "cell_type": "code",
   "execution_count": 280,
   "metadata": {},
   "outputs": [],
   "source": [
    "import os\n",
    "import sys\n",
    "def list_image_sizes_in_folder(path):\n",
    "    output = [dI for dI in os.listdir(path) if os.path.isdir(os.path.join(path,dI))]\n",
    "    for f in output:\n",
    "        filePath = path + \"/\" + f + \"/\" + f + \".nii.gz\"\n",
    "        image_data = nib.load(filePath).get_fdata()\n",
    "        print(image_data.shape)"
   ]
  },
  {
   "cell_type": "code",
   "execution_count": 285,
   "metadata": {
    "collapsed": true
   },
   "outputs": [
    {
     "name": "stdout",
     "output_type": "stream",
     "text": [
      "(254, 208, 200)\n",
      "(254, 208, 200)\n",
      "(254, 208, 200)\n",
      "(255, 208, 200)\n",
      "(255, 208, 200)\n",
      "(254, 205, 154)\n",
      "(255, 208, 200)\n",
      "(254, 208, 144)\n",
      "(255, 208, 192)\n",
      "(255, 208, 200)\n",
      "(254, 208, 170)\n",
      "(254, 208, 200)\n",
      "(254, 208, 200)\n",
      "(255, 208, 200)\n",
      "(255, 208, 200)\n",
      "(254, 208, 200)\n",
      "(254, 201, 200)\n",
      "(255, 208, 189)\n",
      "(255, 208, 200)\n",
      "(254, 204, 178)\n",
      "(255, 208, 200)\n",
      "(254, 206, 200)\n",
      "(254, 208, 181)\n",
      "(255, 208, 200)\n",
      "(255, 203, 200)\n",
      "(255, 206, 200)\n",
      "(255, 208, 199)\n",
      "(255, 208, 200)\n",
      "(255, 208, 200)\n",
      "(255, 208, 200)\n"
     ]
    }
   ],
   "source": [
    "list_image_sizes_in_folder(data_folder+\"native/native_1/c0005\")"
   ]
  },
  {
   "cell_type": "code",
   "execution_count": 400,
   "metadata": {},
   "outputs": [],
   "source": [
    "import nilearn.image\n",
    "def resampleTest(img):    \n",
    "    # Now we need to calc the scale matrix.\n",
    "    sizeMatrix = np.array([s[0]/256, s[1]/256, s[2]/256, 1])\n",
    "    print(sizeMatrix)\n",
    "    \n",
    "    affineT = np.eye(4) * sizeMatrix\n",
    "    affineT[0][3] = translation[0]\n",
    "    affineT[1][3] = translation[1]\n",
    "    affineT[2][3] = translation[2]\n",
    "    print(affineT)\n",
    "    \n",
    "    #nilearn.image.resample(img, )\n",
    "    return nilearn.image.resample_img(img, img.affine * sizeMatrix, (256, 256, 256))"
   ]
  },
  {
   "cell_type": "code",
   "execution_count": 401,
   "metadata": {},
   "outputs": [],
   "source": [
    "brain_img = nib.load(brain_scan_file_path)"
   ]
  },
  {
   "cell_type": "code",
   "execution_count": 402,
   "metadata": {},
   "outputs": [
    {
     "name": "stdout",
     "output_type": "stream",
     "text": [
      "[51.  29.5 29.5  0. ]\n",
      "[0.6015625  0.76953125 0.76953125 1.        ]\n",
      "[[ 0.6015625   0.          0.         51.        ]\n",
      " [ 0.          0.76953125  0.         29.5       ]\n",
      " [ 0.          0.          0.76953125 29.5       ]\n",
      " [ 0.          0.          0.          1.        ]]\n"
     ]
    }
   ],
   "source": [
    "resampled_brain_image = resampleTest(brain_img)"
   ]
  },
  {
   "cell_type": "code",
   "execution_count": 403,
   "metadata": {},
   "outputs": [
    {
     "data": {
      "text/plain": [
       "(256, 256, 256)"
      ]
     },
     "execution_count": 403,
     "metadata": {},
     "output_type": "execute_result"
    }
   ],
   "source": [
    "resampled_brain_image.shape"
   ]
  },
  {
   "cell_type": "code",
   "execution_count": 404,
   "metadata": {},
   "outputs": [
    {
     "data": {
      "text/plain": [
       "(154, 197, 197)"
      ]
     },
     "execution_count": 404,
     "metadata": {},
     "output_type": "execute_result"
    }
   ],
   "source": [
    "brain_img.shape"
   ]
  },
  {
   "cell_type": "code",
   "execution_count": 405,
   "metadata": {},
   "outputs": [],
   "source": [
    "def draw_brain_img(x):\n",
    "    d = resampled_brain_image.get_fdata()\n",
    "    plt.imshow(d[:,:,x])"
   ]
  },
  {
   "cell_type": "code",
   "execution_count": 406,
   "metadata": {},
   "outputs": [
    {
     "data": {
      "application/vnd.jupyter.widget-view+json": {
       "model_id": "c8909ddad07d4d319bf7ae16e13ff590",
       "version_major": 2,
       "version_minor": 0
      },
      "text/plain": [
       "interactive(children=(IntSlider(value=128, description='x', max=255), Output()), _dom_classes=('widget-interac…"
      ]
     },
     "metadata": {},
     "output_type": "display_data"
    }
   ],
   "source": [
    "interact(draw_brain_img, x=widgets.IntSlider(min=0, max=resampled_brain_image.shape[2] - 1, step=1, value=resampled_brain_image.shape[2]/2));"
   ]
  },
  {
   "cell_type": "code",
   "execution_count": null,
   "metadata": {},
   "outputs": [],
   "source": []
  }
 ],
 "metadata": {
  "kernelspec": {
   "display_name": "Python 3",
   "language": "python",
   "name": "python3"
  },
  "language_info": {
   "codemirror_mode": {
    "name": "ipython",
    "version": 3
   },
   "file_extension": ".py",
   "mimetype": "text/x-python",
   "name": "python",
   "nbconvert_exporter": "python",
   "pygments_lexer": "ipython3",
   "version": "3.6.9"
  }
 },
 "nbformat": 4,
 "nbformat_minor": 4
}
